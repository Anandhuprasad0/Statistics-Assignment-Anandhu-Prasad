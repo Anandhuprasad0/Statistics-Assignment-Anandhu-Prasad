{
 "cells": [
  {
   "cell_type": "markdown",
   "id": "a7b6090d",
   "metadata": {},
   "source": [
    "An Institution wishes to find out their student’s ability in \n",
    "mathematics, reading and writing skills. The Institution \n",
    "wants to do an exploratory study to check the following \n",
    "information.\n",
    "a. Find out how many males and females participated in \n",
    "the test.\n",
    "b. What do you think about the students' parental level of \n",
    "education?\n",
    "c. Who scores the most on average for math, reading and \n",
    "writing based on\n",
    "i. Gender\n",
    "ii. Test preparation course\n",
    "d. What do you think about the scoring variation for \n",
    "math, reading and writing based on\n",
    "i. Gender\n",
    "ii. Test preparation course\n",
    "e. The management needs your help to give bonus points \n",
    "to the top 25% of students based on their math score, \n",
    "so how will you help the management to achieve this."
   ]
  },
  {
   "cell_type": "code",
   "execution_count": 1,
   "id": "aa19c66f",
   "metadata": {},
   "outputs": [],
   "source": [
    "import pandas as pd\n",
    "import numpy as np\n",
    "import matplotlib.pyplot as plt\n",
    "import seaborn as sns"
   ]
  },
  {
   "cell_type": "code",
   "execution_count": 2,
   "id": "d1ab2243",
   "metadata": {},
   "outputs": [],
   "source": [
    "data=pd.read_csv(\"C:/Users/HP/Downloads/Students_Performance.csv\")"
   ]
  },
  {
   "cell_type": "code",
   "execution_count": 3,
   "id": "cb81fdc0",
   "metadata": {},
   "outputs": [
    {
     "data": {
      "text/html": [
       "<div>\n",
       "<style scoped>\n",
       "    .dataframe tbody tr th:only-of-type {\n",
       "        vertical-align: middle;\n",
       "    }\n",
       "\n",
       "    .dataframe tbody tr th {\n",
       "        vertical-align: top;\n",
       "    }\n",
       "\n",
       "    .dataframe thead th {\n",
       "        text-align: right;\n",
       "    }\n",
       "</style>\n",
       "<table border=\"1\" class=\"dataframe\">\n",
       "  <thead>\n",
       "    <tr style=\"text-align: right;\">\n",
       "      <th></th>\n",
       "      <th>gender</th>\n",
       "      <th>race/ethnicity</th>\n",
       "      <th>parental level of education</th>\n",
       "      <th>lunch</th>\n",
       "      <th>test preparation course</th>\n",
       "      <th>math score</th>\n",
       "      <th>reading score</th>\n",
       "      <th>writing score</th>\n",
       "    </tr>\n",
       "  </thead>\n",
       "  <tbody>\n",
       "    <tr>\n",
       "      <th>0</th>\n",
       "      <td>female</td>\n",
       "      <td>group C</td>\n",
       "      <td>some high school</td>\n",
       "      <td>free/reduced</td>\n",
       "      <td>none</td>\n",
       "      <td>0</td>\n",
       "      <td>17</td>\n",
       "      <td>10</td>\n",
       "    </tr>\n",
       "    <tr>\n",
       "      <th>1</th>\n",
       "      <td>female</td>\n",
       "      <td>group B</td>\n",
       "      <td>high school</td>\n",
       "      <td>free/reduced</td>\n",
       "      <td>none</td>\n",
       "      <td>8</td>\n",
       "      <td>24</td>\n",
       "      <td>23</td>\n",
       "    </tr>\n",
       "    <tr>\n",
       "      <th>2</th>\n",
       "      <td>female</td>\n",
       "      <td>group B</td>\n",
       "      <td>some high school</td>\n",
       "      <td>free/reduced</td>\n",
       "      <td>none</td>\n",
       "      <td>18</td>\n",
       "      <td>32</td>\n",
       "      <td>28</td>\n",
       "    </tr>\n",
       "    <tr>\n",
       "      <th>3</th>\n",
       "      <td>female</td>\n",
       "      <td>group B</td>\n",
       "      <td>some college</td>\n",
       "      <td>standard</td>\n",
       "      <td>none</td>\n",
       "      <td>11</td>\n",
       "      <td>38</td>\n",
       "      <td>32</td>\n",
       "    </tr>\n",
       "    <tr>\n",
       "      <th>4</th>\n",
       "      <td>female</td>\n",
       "      <td>group C</td>\n",
       "      <td>some college</td>\n",
       "      <td>free/reduced</td>\n",
       "      <td>none</td>\n",
       "      <td>22</td>\n",
       "      <td>39</td>\n",
       "      <td>33</td>\n",
       "    </tr>\n",
       "  </tbody>\n",
       "</table>\n",
       "</div>"
      ],
      "text/plain": [
       "   gender race/ethnicity parental level of education         lunch  \\\n",
       "0  female        group C            some high school  free/reduced   \n",
       "1  female        group B                 high school  free/reduced   \n",
       "2  female        group B            some high school  free/reduced   \n",
       "3  female        group B                some college      standard   \n",
       "4  female        group C                some college  free/reduced   \n",
       "\n",
       "  test preparation course  math score  reading score  writing score  \n",
       "0                    none           0             17             10  \n",
       "1                    none           8             24             23  \n",
       "2                    none          18             32             28  \n",
       "3                    none          11             38             32  \n",
       "4                    none          22             39             33  "
      ]
     },
     "execution_count": 3,
     "metadata": {},
     "output_type": "execute_result"
    }
   ],
   "source": [
    "data.head()"
   ]
  },
  {
   "cell_type": "code",
   "execution_count": 4,
   "id": "1d9ba147",
   "metadata": {},
   "outputs": [
    {
     "data": {
      "text/plain": [
       "(1000, 8)"
      ]
     },
     "execution_count": 4,
     "metadata": {},
     "output_type": "execute_result"
    }
   ],
   "source": [
    "data.shape"
   ]
  },
  {
   "cell_type": "code",
   "execution_count": 5,
   "id": "0788a265",
   "metadata": {},
   "outputs": [
    {
     "data": {
      "text/plain": [
       "<bound method DataFrame.info of      gender race/ethnicity parental level of education         lunch  \\\n",
       "0    female        group C            some high school  free/reduced   \n",
       "1    female        group B                 high school  free/reduced   \n",
       "2    female        group B            some high school  free/reduced   \n",
       "3    female        group B                some college      standard   \n",
       "4    female        group C                some college  free/reduced   \n",
       "..      ...            ...                         ...           ...   \n",
       "995    male        group E                some college      standard   \n",
       "996    male        group A                some college      standard   \n",
       "997    male        group D                some college      standard   \n",
       "998    male        group E          associate's degree  free/reduced   \n",
       "999    male        group E           bachelor's degree      standard   \n",
       "\n",
       "    test preparation course  math score  reading score  writing score  \n",
       "0                      none           0             17             10  \n",
       "1                      none           8             24             23  \n",
       "2                      none          18             32             28  \n",
       "3                      none          11             38             32  \n",
       "4                      none          22             39             33  \n",
       "..                      ...         ...            ...            ...  \n",
       "995               completed          99             87             81  \n",
       "996               completed         100             96             86  \n",
       "997               completed         100             97             99  \n",
       "998               completed         100            100             93  \n",
       "999               completed         100            100            100  \n",
       "\n",
       "[1000 rows x 8 columns]>"
      ]
     },
     "execution_count": 5,
     "metadata": {},
     "output_type": "execute_result"
    }
   ],
   "source": [
    "data.info"
   ]
  },
  {
   "cell_type": "code",
   "execution_count": 6,
   "id": "ba0f6425",
   "metadata": {},
   "outputs": [
    {
     "data": {
      "text/plain": [
       "gender                         0\n",
       "race/ethnicity                 0\n",
       "parental level of education    0\n",
       "lunch                          0\n",
       "test preparation course        0\n",
       "math score                     0\n",
       "reading score                  0\n",
       "writing score                  0\n",
       "dtype: int64"
      ]
     },
     "execution_count": 6,
     "metadata": {},
     "output_type": "execute_result"
    }
   ],
   "source": [
    "data.isna().sum()"
   ]
  },
  {
   "cell_type": "code",
   "execution_count": 7,
   "id": "c8c9683f",
   "metadata": {},
   "outputs": [
    {
     "data": {
      "text/plain": [
       "math score       66.001\n",
       "reading score    69.195\n",
       "writing score    68.119\n",
       "dtype: float64"
      ]
     },
     "execution_count": 7,
     "metadata": {},
     "output_type": "execute_result"
    }
   ],
   "source": [
    "data.mean()"
   ]
  },
  {
   "cell_type": "code",
   "execution_count": 8,
   "id": "c6c68c30",
   "metadata": {},
   "outputs": [
    {
     "data": {
      "text/plain": [
       "Index(['gender', 'race/ethnicity', 'parental level of education', 'lunch',\n",
       "       'test preparation course', 'math score', 'reading score',\n",
       "       'writing score'],\n",
       "      dtype='object')"
      ]
     },
     "execution_count": 8,
     "metadata": {},
     "output_type": "execute_result"
    }
   ],
   "source": [
    "data.columns"
   ]
  },
  {
   "cell_type": "markdown",
   "id": "83c51ad8",
   "metadata": {},
   "source": [
    "a. Find out how many males and females participated in the test."
   ]
  },
  {
   "cell_type": "code",
   "execution_count": 9,
   "id": "83e72aca",
   "metadata": {},
   "outputs": [
    {
     "name": "stdout",
     "output_type": "stream",
     "text": [
      "female    518\n",
      "male      482\n",
      "Name: gender, dtype: int64\n"
     ]
    }
   ],
   "source": [
    "gendercount = data[\"gender\"].value_counts()\n",
    "print(gendercount)"
   ]
  },
  {
   "cell_type": "code",
   "execution_count": 10,
   "id": "3cba8987",
   "metadata": {
    "scrolled": true
   },
   "outputs": [
    {
     "data": {
      "image/png": "[encoded data removed]",
      "text/plain": [
       "<Figure size 432x288 with 1 Axes>"
      ]
     },
     "metadata": {
      "needs_background": "light"
     },
     "output_type": "display_data"
    }
   ],
   "source": [
    "#bar chart\n",
    "plt.bar(gendercount.index, gendercount.values)\n",
    "plt.xlabel(\"Gender\")\n",
    "plt.ylabel(\"Count\")\n",
    "plt.title(\"Gender Count in the Dataset\")\n",
    "plt.show()"
   ]
  },
  {
   "cell_type": "markdown",
   "id": "326d330c",
   "metadata": {},
   "source": [
    "b. What do you think about the students' parental level of education?"
   ]
  },
  {
   "cell_type": "code",
   "execution_count": 11,
   "id": "b44b839d",
   "metadata": {},
   "outputs": [
    {
     "name": "stdout",
     "output_type": "stream",
     "text": [
      "some college          226\n",
      "associate's degree    222\n",
      "high school           196\n",
      "some high school      179\n",
      "bachelor's degree     118\n",
      "master's degree        59\n",
      "Name: parental level of education, dtype: int64\n"
     ]
    }
   ],
   "source": [
    "parental_education_count = data[\"parental level of education\"].value_counts()\n",
    "print(parental_education_count)"
   ]
  },
  {
   "cell_type": "code",
   "execution_count": 12,
   "id": "4bc18b08",
   "metadata": {},
   "outputs": [
    {
     "data": {
      "image/png": "[encoded data removed]",
      "text/plain": [
       "<Figure size 720x432 with 1 Axes>"
      ]
     },
     "metadata": {
      "needs_background": "light"
     },
     "output_type": "display_data"
    }
   ],
   "source": [
    "plt.figure(figsize=(10, 6)) \n",
    "plt.bar(parental_education_count.index, parental_education_count.values)\n",
    "plt.xlabel(\"Parental Level of Education\")\n",
    "plt.ylabel(\"Count\")\n",
    "plt.title(\"Counts of Parental Level of Education\")\n",
    "plt.xticks(rotation=45)\n",
    "plt.show()"
   ]
  },
  {
   "cell_type": "markdown",
   "id": "bffa92e2",
   "metadata": {},
   "source": [
    "c. Who scores the most on average for math, reading and \n",
    "writing based on"
   ]
  },
  {
   "cell_type": "markdown",
   "id": "9c655972",
   "metadata": {},
   "source": [
    "i. Gender"
   ]
  },
  {
   "cell_type": "code",
   "execution_count": 13,
   "id": "f79c0c2b",
   "metadata": {},
   "outputs": [
    {
     "name": "stdout",
     "output_type": "stream",
     "text": [
      "        math score  reading score  writing score\n",
      "gender                                          \n",
      "female   63.376448      72.590734      72.467181\n",
      "male     68.821577      65.545643      63.446058\n"
     ]
    }
   ],
   "source": [
    "gender_scores = data.groupby(\"gender\")[[\"math score\", \"reading score\", \"writing score\"]].mean()\n",
    "print(gender_scores)"
   ]
  },
  {
   "cell_type": "markdown",
   "id": "f0c5d3bc",
   "metadata": {},
   "source": [
    "ii. Test preparation course"
   ]
  },
  {
   "cell_type": "code",
   "execution_count": 14,
   "id": "81583cc7",
   "metadata": {},
   "outputs": [
    {
     "name": "stdout",
     "output_type": "stream",
     "text": [
      "                         math score  reading score  writing score\n",
      "test preparation course                                          \n",
      "completed                  69.96648      74.175978      74.684358\n",
      "none                       63.78972      66.417445      64.457944\n"
     ]
    }
   ],
   "source": [
    "course_scores = data.groupby(\"test preparation course\")[[\"math score\", \"reading score\", \"writing score\"]].mean()\n",
    "print(course_scores)\n"
   ]
  },
  {
   "cell_type": "markdown",
   "id": "e470d446",
   "metadata": {},
   "source": [
    "d. What do you think about the scoring variation for \n",
    "math, reading and writing based on"
   ]
  },
  {
   "cell_type": "markdown",
   "id": "00a5108c",
   "metadata": {},
   "source": [
    "i. Gender"
   ]
  },
  {
   "cell_type": "code",
   "execution_count": 15,
   "id": "2c4f9c66",
   "metadata": {},
   "outputs": [
    {
     "name": "stdout",
     "output_type": "stream",
     "text": [
      "        math score  reading score  writing score\n",
      "gender                                          \n",
      "female  256.958593     207.677438     220.369327\n",
      "male    211.889097     200.211010     202.413924\n"
     ]
    }
   ],
   "source": [
    "gender_variance = data.groupby(\"gender\")[[\"math score\", \"reading score\", \"writing score\"]].var()\n",
    "print(gender_variance)"
   ]
  },
  {
   "cell_type": "markdown",
   "id": "822e14e1",
   "metadata": {},
   "source": [
    "ii. Test preparation course"
   ]
  },
  {
   "cell_type": "code",
   "execution_count": 16,
   "id": "04cbe558",
   "metadata": {},
   "outputs": [
    {
     "name": "stdout",
     "output_type": "stream",
     "text": [
      "                         math score  reading score  writing score\n",
      "test preparation course                                          \n",
      "completed                210.884027     183.265864     175.202612\n",
      "none                     246.668662     213.419851     226.251739\n"
     ]
    }
   ],
   "source": [
    "course_variance = data.groupby(\"test preparation course\")[[\"math score\", \"reading score\", \"writing score\"]].var()\n",
    "print(course_variance)\n"
   ]
  },
  {
   "cell_type": "markdown",
   "id": "d1130256",
   "metadata": {},
   "source": [
    "e. The management needs your help to give bonus points \n",
    "to the top 25% of students based on their math score, \n",
    "so how will you help the management to achieve this"
   ]
  },
  {
   "cell_type": "code",
   "execution_count": 17,
   "id": "7ad409ef",
   "metadata": {},
   "outputs": [
    {
     "name": "stdout",
     "output_type": "stream",
     "text": [
      "     gender race/ethnicity parental level of education         lunch  \\\n",
      "414  female        group A                 high school  free/reduced   \n",
      "415  female        group B             master's degree  free/reduced   \n",
      "416  female        group B           bachelor's degree  free/reduced   \n",
      "417  female        group B             master's degree      standard   \n",
      "418  female        group B                 high school      standard   \n",
      "..      ...            ...                         ...           ...   \n",
      "995    male        group E                some college      standard   \n",
      "996    male        group A                some college      standard   \n",
      "997    male        group D                some college      standard   \n",
      "998    male        group E          associate's degree  free/reduced   \n",
      "999    male        group E           bachelor's degree      standard   \n",
      "\n",
      "    test preparation course  math score  reading score  writing score  \n",
      "414               completed          77             88             85  \n",
      "415               completed          77             97             94  \n",
      "416                    none          77             85             87  \n",
      "417                    none          77             90             84  \n",
      "418               completed          77             82             89  \n",
      "..                      ...         ...            ...            ...  \n",
      "995               completed          99             87             81  \n",
      "996               completed         100             96             86  \n",
      "997               completed         100             97             99  \n",
      "998               completed         100            100             93  \n",
      "999               completed         100            100            100  \n",
      "\n",
      "[255 rows x 8 columns]\n"
     ]
    }
   ],
   "source": [
    "top_25_math = data[data[\"math score\"] >= data[\"math score\"].quantile(0.75)]\n",
    "print(top_25_math)"
   ]
  },
  {
   "cell_type": "code",
   "execution_count": null,
   "id": "6e2cfef6",
   "metadata": {},
   "outputs": [],
   "source": []
  },
  {
   "cell_type": "markdown",
   "id": "bb5d9b60",
   "metadata": {},
   "source": [
    "# Case Study on Testing of Hypothesis "
   ]
  },
  {
   "cell_type": "markdown",
   "id": "7cc8ff4f",
   "metadata": {},
   "source": [
    "A company started to invest in digital marketing as a new way of their product promotions. For that they collected data and decided to carry out a study on it. a. The company wishes to clarify whether there is any increase in sales after stepping into digital marketing. b. The company needs to check whether there is any dependency between the features “Region” and “Manager”"
   ]
  },
  {
   "cell_type": "code",
   "execution_count": 18,
   "id": "f67b98e7",
   "metadata": {},
   "outputs": [],
   "source": [
    "import statistics as stat"
   ]
  },
  {
   "cell_type": "code",
   "execution_count": 19,
   "id": "d61e0b65",
   "metadata": {},
   "outputs": [],
   "source": [
    "data=pd.read_csv(\"C:/Users/HP/Downloads/Sales_add.csv\")"
   ]
  },
  {
   "cell_type": "code",
   "execution_count": 20,
   "id": "6c8622c2",
   "metadata": {},
   "outputs": [
    {
     "data": {
      "text/html": [
       "<div>\n",
       "<style scoped>\n",
       "    .dataframe tbody tr th:only-of-type {\n",
       "        vertical-align: middle;\n",
       "    }\n",
       "\n",
       "    .dataframe tbody tr th {\n",
       "        vertical-align: top;\n",
       "    }\n",
       "\n",
       "    .dataframe thead th {\n",
       "        text-align: right;\n",
       "    }\n",
       "</style>\n",
       "<table border=\"1\" class=\"dataframe\">\n",
       "  <thead>\n",
       "    <tr style=\"text-align: right;\">\n",
       "      <th></th>\n",
       "      <th>Month</th>\n",
       "      <th>Region</th>\n",
       "      <th>Manager</th>\n",
       "      <th>Sales_before_digital_add(in $)</th>\n",
       "      <th>Sales_After_digital_add(in $)</th>\n",
       "    </tr>\n",
       "  </thead>\n",
       "  <tbody>\n",
       "    <tr>\n",
       "      <th>0</th>\n",
       "      <td>Month-1</td>\n",
       "      <td>Region - A</td>\n",
       "      <td>Manager - A</td>\n",
       "      <td>132921</td>\n",
       "      <td>270390</td>\n",
       "    </tr>\n",
       "    <tr>\n",
       "      <th>1</th>\n",
       "      <td>Month-2</td>\n",
       "      <td>Region - A</td>\n",
       "      <td>Manager - C</td>\n",
       "      <td>149559</td>\n",
       "      <td>223334</td>\n",
       "    </tr>\n",
       "    <tr>\n",
       "      <th>2</th>\n",
       "      <td>Month-3</td>\n",
       "      <td>Region - B</td>\n",
       "      <td>Manager - A</td>\n",
       "      <td>146278</td>\n",
       "      <td>244243</td>\n",
       "    </tr>\n",
       "    <tr>\n",
       "      <th>3</th>\n",
       "      <td>Month-4</td>\n",
       "      <td>Region - B</td>\n",
       "      <td>Manager - B</td>\n",
       "      <td>152167</td>\n",
       "      <td>231808</td>\n",
       "    </tr>\n",
       "    <tr>\n",
       "      <th>4</th>\n",
       "      <td>Month-5</td>\n",
       "      <td>Region - C</td>\n",
       "      <td>Manager - B</td>\n",
       "      <td>159525</td>\n",
       "      <td>258402</td>\n",
       "    </tr>\n",
       "  </tbody>\n",
       "</table>\n",
       "</div>"
      ],
      "text/plain": [
       "     Month      Region      Manager  Sales_before_digital_add(in $)  \\\n",
       "0  Month-1  Region - A  Manager - A                          132921   \n",
       "1  Month-2  Region - A  Manager - C                          149559   \n",
       "2  Month-3  Region - B  Manager - A                          146278   \n",
       "3  Month-4  Region - B  Manager - B                          152167   \n",
       "4  Month-5  Region - C  Manager - B                          159525   \n",
       "\n",
       "   Sales_After_digital_add(in $)  \n",
       "0                         270390  \n",
       "1                         223334  \n",
       "2                         244243  \n",
       "3                         231808  \n",
       "4                         258402  "
      ]
     },
     "execution_count": 20,
     "metadata": {},
     "output_type": "execute_result"
    }
   ],
   "source": [
    "data.head()"
   ]
  },
  {
   "cell_type": "code",
   "execution_count": 21,
   "id": "2fe2df2c",
   "metadata": {},
   "outputs": [
    {
     "data": {
      "text/plain": [
       "(22, 5)"
      ]
     },
     "execution_count": 21,
     "metadata": {},
     "output_type": "execute_result"
    }
   ],
   "source": [
    "data.shape"
   ]
  },
  {
   "cell_type": "code",
   "execution_count": 22,
   "id": "83c9009b",
   "metadata": {},
   "outputs": [
    {
     "data": {
      "text/plain": [
       "<bound method DataFrame.info of        Month      Region      Manager  Sales_before_digital_add(in $)  \\\n",
       "0    Month-1  Region - A  Manager - A                          132921   \n",
       "1    Month-2  Region - A  Manager - C                          149559   \n",
       "2    Month-3  Region - B  Manager - A                          146278   \n",
       "3    Month-4  Region - B  Manager - B                          152167   \n",
       "4    Month-5  Region - C  Manager - B                          159525   \n",
       "5    Month-6  Region - A  Manager - B                          137163   \n",
       "6    Month-7  Region - C  Manager - C                          130625   \n",
       "7    Month-8  Region - A  Manager - A                          131140   \n",
       "8    Month-9  Region - B  Manager - C                          171259   \n",
       "9   Month-10  Region - C  Manager - B                          141956   \n",
       "10  Month-11  Region - B  Manager - C                          159339   \n",
       "11  Month-12  Region - A  Manager - A                          178939   \n",
       "12  Month-13  Region - B  Manager - A                          145062   \n",
       "13  Month-14  Region - A  Manager - A                          151514   \n",
       "14  Month-15  Region - C  Manager - A                          147463   \n",
       "15  Month-16  Region - A  Manager - B                          177195   \n",
       "16  Month-17  Region - A  Manager - C                          140862   \n",
       "17  Month-18  Region - C  Manager - B                          167996   \n",
       "18  Month-19  Region - B  Manager - A                          132135   \n",
       "19  Month-20  Region - A  Manager - B                          152493   \n",
       "20  Month-21  Region - B  Manager - A                          147425   \n",
       "21  Month-22  Region - A  Manager - C                          130263   \n",
       "\n",
       "    Sales_After_digital_add(in $)  \n",
       "0                          270390  \n",
       "1                          223334  \n",
       "2                          244243  \n",
       "3                          231808  \n",
       "4                          258402  \n",
       "5                          256948  \n",
       "6                          222106  \n",
       "7                          230637  \n",
       "8                          226261  \n",
       "9                          193735  \n",
       "10                         203175  \n",
       "11                         276279  \n",
       "12                         205180  \n",
       "13                         253131  \n",
       "14                         229336  \n",
       "15                         187305  \n",
       "16                         234908  \n",
       "17                         191517  \n",
       "18                         227040  \n",
       "19                         212579  \n",
       "20                         263388  \n",
       "21                         243020  >"
      ]
     },
     "execution_count": 22,
     "metadata": {},
     "output_type": "execute_result"
    }
   ],
   "source": [
    "data.info"
   ]
  },
  {
   "cell_type": "code",
   "execution_count": 23,
   "id": "9dddff5a",
   "metadata": {},
   "outputs": [
    {
     "data": {
      "text/plain": [
       "Month                             0\n",
       "Region                            0\n",
       "Manager                           0\n",
       "Sales_before_digital_add(in $)    0\n",
       "Sales_After_digital_add(in $)     0\n",
       "dtype: int64"
      ]
     },
     "execution_count": 23,
     "metadata": {},
     "output_type": "execute_result"
    }
   ],
   "source": [
    "data.isna().sum()"
   ]
  },
  {
   "cell_type": "code",
   "execution_count": 24,
   "id": "bae23b7a",
   "metadata": {},
   "outputs": [
    {
     "data": {
      "text/plain": [
       "Index(['Month', 'Region', 'Manager', 'Sales_before_digital_add(in $)',\n",
       "       'Sales_After_digital_add(in $)'],\n",
       "      dtype='object')"
      ]
     },
     "execution_count": 24,
     "metadata": {},
     "output_type": "execute_result"
    }
   ],
   "source": [
    "data.columns"
   ]
  },
  {
   "cell_type": "code",
   "execution_count": 25,
   "id": "03f362e1",
   "metadata": {},
   "outputs": [
    {
     "data": {
      "text/plain": [
       "Sales_before_digital_add(in $)    149239.954545\n",
       "Sales_After_digital_add(in $)     231123.727273\n",
       "dtype: float64"
      ]
     },
     "execution_count": 25,
     "metadata": {},
     "output_type": "execute_result"
    }
   ],
   "source": [
    "data.mean()"
   ]
  },
  {
   "cell_type": "code",
   "execution_count": 26,
   "id": "5232dda6",
   "metadata": {},
   "outputs": [
    {
     "data": {
      "text/plain": [
       "220345610.23593074"
      ]
     },
     "execution_count": 26,
     "metadata": {},
     "output_type": "execute_result"
    }
   ],
   "source": [
    "stat.variance(data['Sales_before_digital_add(in $)'])"
   ]
  },
  {
   "cell_type": "code",
   "execution_count": 27,
   "id": "d4a69474",
   "metadata": {},
   "outputs": [],
   "source": [
    "import scipy.stats as stats"
   ]
  },
  {
   "cell_type": "code",
   "execution_count": 28,
   "id": "ab8dd60d",
   "metadata": {},
   "outputs": [],
   "source": [
    "from scipy.stats import ttest_ind"
   ]
  },
  {
   "cell_type": "code",
   "execution_count": 29,
   "id": "6a8bbc31",
   "metadata": {},
   "outputs": [],
   "source": [
    "sales_before = data['Sales_before_digital_add(in $)']\n",
    "sales_after = data['Sales_After_digital_add(in $)'] "
   ]
  },
  {
   "cell_type": "code",
   "execution_count": 30,
   "id": "31dd016a",
   "metadata": {},
   "outputs": [],
   "source": [
    "#Ttest\n",
    "t_stat, p_value = stats.ttest_ind(sales_before, sales_after)"
   ]
  },
  {
   "cell_type": "code",
   "execution_count": 31,
   "id": "2840415f",
   "metadata": {},
   "outputs": [
    {
     "data": {
      "text/plain": [
       "2.614368006904645e-16"
      ]
     },
     "execution_count": 31,
     "metadata": {},
     "output_type": "execute_result"
    }
   ],
   "source": [
    "p_value"
   ]
  },
  {
   "cell_type": "code",
   "execution_count": 32,
   "id": "28562d18",
   "metadata": {},
   "outputs": [
    {
     "name": "stdout",
     "output_type": "stream",
     "text": [
      "Reject null hypothesis\n"
     ]
    }
   ],
   "source": [
    "if p_value < 0.05:\n",
    "    print(\"Reject null hypothesis\")\n",
    "else:\n",
    "    print(\"Accept null hypothesis\")"
   ]
  },
  {
   "cell_type": "markdown",
   "id": "5dfffbce",
   "metadata": {},
   "source": [
    "There is increase in sales after digital marketing"
   ]
  },
  {
   "cell_type": "markdown",
   "id": "c0e3900f",
   "metadata": {},
   "source": [
    "b. The company needs to check whether there is any \n",
    "dependency between the features “Region” and \n",
    "“Manager”."
   ]
  },
  {
   "cell_type": "code",
   "execution_count": 33,
   "id": "0183cd63",
   "metadata": {},
   "outputs": [],
   "source": [
    "#chi square test\n",
    "from scipy.stats import chi2_contingency"
   ]
  },
  {
   "cell_type": "code",
   "execution_count": 34,
   "id": "d0f485eb",
   "metadata": {},
   "outputs": [],
   "source": [
    "chi_table = pd.crosstab(data['Region'], data['Manager'])"
   ]
  },
  {
   "cell_type": "code",
   "execution_count": 35,
   "id": "419d96d5",
   "metadata": {},
   "outputs": [
    {
     "data": {
      "text/html": [
       "<div>\n",
       "<style scoped>\n",
       "    .dataframe tbody tr th:only-of-type {\n",
       "        vertical-align: middle;\n",
       "    }\n",
       "\n",
       "    .dataframe tbody tr th {\n",
       "        vertical-align: top;\n",
       "    }\n",
       "\n",
       "    .dataframe thead th {\n",
       "        text-align: right;\n",
       "    }\n",
       "</style>\n",
       "<table border=\"1\" class=\"dataframe\">\n",
       "  <thead>\n",
       "    <tr style=\"text-align: right;\">\n",
       "      <th>Manager</th>\n",
       "      <th>Manager - A</th>\n",
       "      <th>Manager - B</th>\n",
       "      <th>Manager - C</th>\n",
       "    </tr>\n",
       "    <tr>\n",
       "      <th>Region</th>\n",
       "      <th></th>\n",
       "      <th></th>\n",
       "      <th></th>\n",
       "    </tr>\n",
       "  </thead>\n",
       "  <tbody>\n",
       "    <tr>\n",
       "      <th>Region - A</th>\n",
       "      <td>4</td>\n",
       "      <td>3</td>\n",
       "      <td>3</td>\n",
       "    </tr>\n",
       "    <tr>\n",
       "      <th>Region - B</th>\n",
       "      <td>4</td>\n",
       "      <td>1</td>\n",
       "      <td>2</td>\n",
       "    </tr>\n",
       "    <tr>\n",
       "      <th>Region - C</th>\n",
       "      <td>1</td>\n",
       "      <td>3</td>\n",
       "      <td>1</td>\n",
       "    </tr>\n",
       "  </tbody>\n",
       "</table>\n",
       "</div>"
      ],
      "text/plain": [
       "Manager     Manager - A  Manager - B  Manager - C\n",
       "Region                                           \n",
       "Region - A            4            3            3\n",
       "Region - B            4            1            2\n",
       "Region - C            1            3            1"
      ]
     },
     "execution_count": 35,
     "metadata": {},
     "output_type": "execute_result"
    }
   ],
   "source": [
    "chi_table "
   ]
  },
  {
   "cell_type": "code",
   "execution_count": 36,
   "id": "49df3665",
   "metadata": {},
   "outputs": [],
   "source": [
    "chi2_stat,p_value,Reg,Man = chi2_contingency(chi_table)"
   ]
  },
  {
   "cell_type": "code",
   "execution_count": 37,
   "id": "3b50326e",
   "metadata": {},
   "outputs": [
    {
     "data": {
      "text/plain": [
       "0.5493991051158094"
      ]
     },
     "execution_count": 37,
     "metadata": {},
     "output_type": "execute_result"
    }
   ],
   "source": [
    "p_value"
   ]
  },
  {
   "cell_type": "code",
   "execution_count": 38,
   "id": "efc6fd5a",
   "metadata": {},
   "outputs": [
    {
     "name": "stdout",
     "output_type": "stream",
     "text": [
      "Accept null hypothesis\n"
     ]
    }
   ],
   "source": [
    "if p_value < 0.05:\n",
    "    print(\"Reject null hypothesis\")\n",
    "else:\n",
    "    print(\"Accept null hypothesis\")"
   ]
  },
  {
   "cell_type": "markdown",
   "id": "740d8721",
   "metadata": {},
   "source": [
    "There is no dependency between the features Region and Manager statistically"
   ]
  },
  {
   "cell_type": "code",
   "execution_count": null,
   "id": "07659f20",
   "metadata": {},
   "outputs": [],
   "source": []
  },
  {
   "cell_type": "code",
   "execution_count": null,
   "id": "7a021bb4",
   "metadata": {},
   "outputs": [],
   "source": []
  }
 ],
 "metadata": {
  "kernelspec": {
   "display_name": "Python 3",
   "language": "python",
   "name": "python3"
  },
  "language_info": {
   "codemirror_mode": {
    "name": "ipython",
    "version": 3
   },
   "file_extension": ".py",
   "mimetype": "text/x-python",
   "name": "python",
   "nbconvert_exporter": "python",
   "pygments_lexer": "ipython3",
   "version": "3.8.8"
  }
 },
 "nbformat": 4,
 "nbformat_minor": 5
}
